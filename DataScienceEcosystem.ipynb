{
 "cells": [
  {
   "cell_type": "markdown",
   "id": "4d15a0b0",
   "metadata": {},
   "source": [
    "<b>Exercise 2 - Create a markdown cell with the title of the notebook.</b>\n",
    "## Data Science Tools and Ecosystem\n",
    "<b>Exercise 3 - Create a markdown cell for an introduction. (1 pt)</b>\n",
    "\n",
    "In this notebook, Data Science Tools and Ecosystem are summarized.\n",
    "\n",
    "Objectives:\n",
    "\n",
    "- List popular languages that Data Scientists use.\n",
    "- List commonly used libraries used by Data Scientists.\n",
    "- Comment on Data Science tools.\n",
    "\n",
    "<b>Exercise 4 - Create a markdown cell to list data science languages. (3 pts)</b>\n",
    "\n",
    "Some of the popular languages that Data Scientists use are:\n",
    "\n",
    "1. Python.\n",
    "2. R.\n",
    "3. SQL.\n",
    "4. Java.\n",
    "5. Julia.\n",
    "6. Scala.\n",
    "7. C/C++.\n",
    "8. JavaScript.\n",
    "\n",
    "<b>Exercise 5 - Create a markdown cell to list data science libraries. (3 pts)</b>\n",
    "\n",
    "Some of the commonly used libraries used by Data Scientists include:\n",
    "\n",
    "1. TensorFlow.\n",
    "2. NumPy.\n",
    "3. SciPy.\n",
    "4. Pandas.\n",
    "5. Matplotlib.\n",
    "6. Keras.\n",
    "7. SciKit-Learn.\n",
    "8. PyTorch.\n",
    "9. Scrapy.\n",
    "10. BeautifulSoup.\n",
    "11. LightGBM.\n",
    "12. ELI5.\n",
    "13. Theano.\n",
    "14. NuPIC.\n",
    "15. Ramp.\n",
    "16. Pipenv.\n",
    "17. Bob.\n",
    "18. PyBrain.\n",
    "19. Caffe2.\n",
    "20. Chainer.\n",
    "\n",
    "<b>Exercise 6 - Create a markdown cell with a table of Data Science tools. (3 pts)</b>\n",
    "\n",
    "Data Science Tools:\n",
    "- SAS. It is one of those data science tools which are specifically designed for statistical operation\t\t\n",
    "- Apache Spark\t\t\n",
    "- BigML\n",
    "\n",
    "<b>Exercise 7 - Create a markdown cell introducing arithmetic expression examples. (1 pt)</b>\n",
    "\n",
    "## Below are a few examples of evaluating arithmetic expressions in Python"
   ]
  },
  {
   "cell_type": "code",
   "execution_count": 1,
   "id": "820d398a",
   "metadata": {},
   "outputs": [
    {
     "data": {
      "text/plain": [
       "9"
      ]
     },
     "execution_count": 1,
     "metadata": {},
     "output_type": "execute_result"
    }
   ],
   "source": [
    "# Arithmetic operations\n",
    "code = compile(\"5 + 4\", \"<string>\", \"eval\")\n",
    "eval(code)\n",
    "# Result: 9"
   ]
  },
  {
   "cell_type": "code",
   "execution_count": 2,
   "id": "37906893",
   "metadata": {},
   "outputs": [
    {
     "data": {
      "text/plain": [
       "24"
      ]
     },
     "execution_count": 2,
     "metadata": {},
     "output_type": "execute_result"
    }
   ],
   "source": [
    "code1 = compile(\"(5 + 7) * 2\", \"<string>\", \"eval\")\n",
    "eval(code1)\n",
    "# Result: 24"
   ]
  },
  {
   "cell_type": "code",
   "execution_count": 3,
   "id": "2046964f",
   "metadata": {},
   "outputs": [
    {
     "data": {
      "text/plain": [
       "65449.84694978735"
      ]
     },
     "execution_count": 3,
     "metadata": {},
     "output_type": "execute_result"
    }
   ],
   "source": [
    "import math\n",
    "# Volume of a sphere\n",
    "code2 = compile(\"4 / 3 * math.pi * math.pow(25, 3)\", \"<string>\", \"eval\")\n",
    "eval(code2)\n",
    "# Result: 65449.84694978735"
   ]
  },
  {
   "cell_type": "markdown",
   "id": "31c9a195",
   "metadata": {},
   "source": [
    "<b>Exercise 8 - Create a code cell to multiply and add numbers.(2 pts)</b>\n",
    "\n",
    "This a simple arithmetic expression to mutiply then add integers"
   ]
  },
  {
   "cell_type": "code",
   "execution_count": 4,
   "id": "54d40e3b",
   "metadata": {},
   "outputs": [
    {
     "data": {
      "text/plain": [
       "17"
      ]
     },
     "execution_count": 4,
     "metadata": {},
     "output_type": "execute_result"
    }
   ],
   "source": [
    "(3*4)+5\n",
    "# Result: 17"
   ]
  },
  {
   "cell_type": "markdown",
   "id": "ca79e99e",
   "metadata": {},
   "source": [
    "<b>Exercise 9 - Create a code cell to convert minutes to hours. (2 pts)</b>\n",
    "\n",
    "This will convert 200 minutes to hours by diving by 60"
   ]
  },
  {
   "cell_type": "code",
   "execution_count": 5,
   "id": "b525e4bb",
   "metadata": {},
   "outputs": [
    {
     "name": "stdout",
     "output_type": "stream",
     "text": [
      "0 days, 3.3333333333333335 hours, 0 mins. \n"
     ]
    }
   ],
   "source": [
    "days = 0\n",
    "hours = 0\n",
    "mins = 0\n",
    "\n",
    "time = 200\n",
    "#days = time / 1440\n",
    "leftover_minutes = time % 1440\n",
    "hours = leftover_minutes / 60\n",
    "#mins = time - (days*1440) - (hours*60)\n",
    "print(str(days) + \" days, \" + str(hours) + \" hours, \" + str(mins) +  \" mins. \")\n",
    "\n",
    "# Result: 3.3333333333333335 hours"
   ]
  },
  {
   "cell_type": "markdown",
   "id": "2c863daf",
   "metadata": {},
   "source": [
    "<b>Exercise 10 -Insert a markdown cell to list Objectives.</b>\n",
    "\n",
    "Below the introduction cell created in Exercise 3, insert a new markdown cell to list the objectives that this notebook covered (i.e. some of the key takeaways from the course). In this new cell start with an introductory line titled: Objectives: in bold font. Then using an unordered list (bullets) indicate 3 to 5 items covered in this notebook, such as List popular languages for Data Science.\n",
    "\n",
    "<b>Exercise 11 - Create a markdown cell to indicate the Author’s name.</b>"
   ]
  },
  {
   "cell_type": "markdown",
   "id": "b999e706",
   "metadata": {},
   "source": [
    "## Author:\n",
    "Teoh Chun Keat"
   ]
  },
  {
   "cell_type": "code",
   "execution_count": null,
   "id": "6346156e",
   "metadata": {},
   "outputs": [],
   "source": []
  }
 ],
 "metadata": {
  "kernelspec": {
   "display_name": "Python 3 (ipykernel)",
   "language": "python",
   "name": "python3"
  },
  "language_info": {
   "codemirror_mode": {
    "name": "ipython",
    "version": 3
   },
   "file_extension": ".py",
   "mimetype": "text/x-python",
   "name": "python",
   "nbconvert_exporter": "python",
   "pygments_lexer": "ipython3",
   "version": "3.11.1"
  }
 },
 "nbformat": 4,
 "nbformat_minor": 5
}
